{
 "cells": [
  {
   "cell_type": "code",
   "execution_count": 1,
   "metadata": {},
   "outputs": [],
   "source": [
    "import numpy as np\n",
    "from PIL import Image "
   ]
  },
  {
   "cell_type": "code",
   "execution_count": 8,
   "metadata": {},
   "outputs": [],
   "source": [
    "images = []\n",
    "for i in range(2012,2018):\n",
    "    img_start = Image.open(f\"../Images/start-{i}.png\")\n",
    "    img_end = Image.open(f\"../Images/end-{i}.png\")\n",
    "    images.append(img_start)\n",
    "    images.append(img_end)"
   ]
  },
  {
   "cell_type": "code",
   "execution_count": 9,
   "metadata": {},
   "outputs": [
    {
     "data": {
      "text/plain": [
       "[<PIL.PngImagePlugin.PngImageFile image mode=P size=1535x2871>,\n",
       " <PIL.PngImagePlugin.PngImageFile image mode=P size=1535x2871>,\n",
       " <PIL.PngImagePlugin.PngImageFile image mode=P size=1535x2871>,\n",
       " <PIL.PngImagePlugin.PngImageFile image mode=P size=1535x2871>,\n",
       " <PIL.PngImagePlugin.PngImageFile image mode=P size=1535x2871>,\n",
       " <PIL.PngImagePlugin.PngImageFile image mode=P size=1535x2871>,\n",
       " <PIL.PngImagePlugin.PngImageFile image mode=P size=1535x2871>,\n",
       " <PIL.PngImagePlugin.PngImageFile image mode=P size=1535x2871>,\n",
       " <PIL.PngImagePlugin.PngImageFile image mode=P size=1535x2871>,\n",
       " <PIL.PngImagePlugin.PngImageFile image mode=P size=1535x2871>,\n",
       " <PIL.PngImagePlugin.PngImageFile image mode=P size=1535x2871>,\n",
       " <PIL.PngImagePlugin.PngImageFile image mode=P size=1535x2871>]"
      ]
     },
     "execution_count": 9,
     "metadata": {},
     "output_type": "execute_result"
    }
   ],
   "source": [
    "images"
   ]
  },
  {
   "cell_type": "code",
   "execution_count": 10,
   "metadata": {},
   "outputs": [],
   "source": [
    "images[0].show()"
   ]
  },
  {
   "cell_type": "code",
   "execution_count": 13,
   "metadata": {},
   "outputs": [],
   "source": [
    "duration = [1500 for _ in range(11)] + [2500]\n",
    "\n",
    "images[0].save(\n",
    "    'map_anim.gif',\n",
    "    optimize=False,\n",
    "    save_all=True,\n",
    "    append_images=images[1:],\n",
    "    loop=0,\n",
    "    duration=duration\n",
    ")"
   ]
  }
 ],
 "metadata": {
  "kernelspec": {
   "display_name": "Python 3",
   "language": "python",
   "name": "python3"
  },
  "language_info": {
   "codemirror_mode": {
    "name": "ipython",
    "version": 3
   },
   "file_extension": ".py",
   "mimetype": "text/x-python",
   "name": "python",
   "nbconvert_exporter": "python",
   "pygments_lexer": "ipython3",
   "version": "3.10.7"
  },
  "orig_nbformat": 4
 },
 "nbformat": 4,
 "nbformat_minor": 2
}
